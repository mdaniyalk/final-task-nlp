{
 "cells": [
  {
   "cell_type": "code",
   "execution_count": null,
   "metadata": {},
   "outputs": [],
   "source": [
    "import numpy as np \n",
    "import pandas as pd \n",
    "import tensorflow as tf \n",
    "from sklearn.linear_model import LogisticRegression\n",
    "from sklearn.naive_bayes import GaussianNB\n",
    "from sklearn.metrics import accuracy_score"
   ]
  },
  {
   "cell_type": "markdown",
   "metadata": {},
   "source": [
    "# Single Label"
   ]
  },
  {
   "cell_type": "markdown",
   "metadata": {},
   "source": [
    "## emotion-twitter"
   ]
  },
  {
   "cell_type": "code",
   "execution_count": null,
   "metadata": {},
   "outputs": [],
   "source": [
    "emotion_twitter = 'downstream/e5-small/emot_emotion-twitter'"
   ]
  },
  {
   "cell_type": "code",
   "execution_count": null,
   "metadata": {},
   "outputs": [],
   "source": [
    "train_emotion_twitter = pd.read_csv(f'{emotion_twitter}/train_preprocess.csv')\n",
    "valid_emotion_twitter = pd.read_csv(f'{emotion_twitter}/valid_preprocess.csv')\n",
    "test_emotion_twitter = pd.read_csv(f'{emotion_twitter}/test_preprocess.csv')\n",
    "\n",
    "train_emotion_twitter_embedding_e5 = np.load('downstream/e5-small/emot_emotion-twitter/train.npy')\n",
    "valid_emotion_twitter_embedding_e5 = np.load('downstream/e5-small/emot_emotion-twitter/valid.npy')\n",
    "test_emotion_twitter_embedding_e5 = np.load('downstream/e5-small/emot_emotion-twitter/test.npy')\n",
    "\n",
    "train_emotion_twitter_embedding_distill = np.load('downstream/distill-e5-small/emot_emotion-twitter/train.npy')\n",
    "valid_emotion_twitter_embedding_distill = np.load('downstream/distill-e5-small/emot_emotion-twitter/valid.npy')\n",
    "test_emotion_twitter_embedding_distill = np.load('downstream/distill-e5-small/emot_emotion-twitter/test.npy')\n",
    "\n",
    "label_list = train_emotion_twitter['label'].unique().tolist()\n",
    "\n",
    "train_emotion_twitter_label = []\n",
    "for label in train_emotion_twitter['label']:\n",
    "    _label = label_list.index(label)\n",
    "    train_emotion_twitter_label.append(_label)\n",
    "\n",
    "valid_emotion_twitter_label = []\n",
    "for label in valid_emotion_twitter['label']:\n",
    "    _label = label_list.index(label)\n",
    "    valid_emotion_twitter_label.append(_label)\n",
    "\n",
    "test_emotion_twitter_label = []\n",
    "for label in test_emotion_twitter['label']:\n",
    "    _label = label_list.index(label)\n",
    "    test_emotion_twitter_label.append(_label)\n",
    "\n"
   ]
  },
  {
   "cell_type": "code",
   "execution_count": null,
   "metadata": {},
   "outputs": [],
   "source": [
    "train_emotion_twitter_embedding_distill.shape"
   ]
  },
  {
   "cell_type": "code",
   "execution_count": null,
   "metadata": {},
   "outputs": [],
   "source": [
    "model_e5 = LogisticRegression(random_state=42)\n",
    "model_e5.fit(train_emotion_twitter_embedding_e5.reshape(train_emotion_twitter_embedding_e5.shape[0], -1), train_emotion_twitter_label)\n",
    "y_pred = model_e5.predict(test_emotion_twitter_embedding_e5.reshape(test_emotion_twitter_embedding_e5.shape[0], -1))\n",
    "\n",
    "accuracy = accuracy_score(y_pred, test_emotion_twitter_label)\n",
    "print(f\"Accuracy on E5-Small: {accuracy:.4f}\")\n",
    "\n",
    "model_distill = LogisticRegression(random_state=42)\n",
    "model_distill.fit(train_emotion_twitter_embedding_distill.reshape(train_emotion_twitter_embedding_distill.shape[0], -1), train_emotion_twitter_label)\n",
    "y_pred = model_distill.predict(test_emotion_twitter_embedding_distill.reshape(test_emotion_twitter_embedding_distill.shape[0], -1))\n",
    "\n",
    "accuracy = accuracy_score(y_pred, test_emotion_twitter_label)\n",
    "print(f\"Accuracy on Distill E5-Small: {accuracy:.4f}\")\n",
    "\n"
   ]
  },
  {
   "cell_type": "code",
   "execution_count": null,
   "metadata": {},
   "outputs": [],
   "source": [
    "model_e5 = GaussianNB()\n",
    "model_e5.fit(train_emotion_twitter_embedding_e5.reshape(train_emotion_twitter_embedding_e5.shape[0], -1), train_emotion_twitter_label)\n",
    "y_pred = model_e5.predict(test_emotion_twitter_embedding_e5.reshape(test_emotion_twitter_embedding_e5.shape[0], -1))\n",
    "\n",
    "accuracy = accuracy_score(y_pred, test_emotion_twitter_label)\n",
    "print(f\"Accuracy on E5-Small: {accuracy:.4f}\")\n",
    "\n",
    "model_distill = GaussianNB()\n",
    "model_distill.fit(train_emotion_twitter_embedding_distill.reshape(train_emotion_twitter_embedding_distill.shape[0], -1), train_emotion_twitter_label)\n",
    "y_pred = model_distill.predict(test_emotion_twitter_embedding_distill.reshape(test_emotion_twitter_embedding_distill.shape[0], -1))\n",
    "\n",
    "accuracy = accuracy_score(y_pred, test_emotion_twitter_label)\n",
    "print(f\"Accuracy on Distill E5-Small: {accuracy:.4f}\")\n",
    "\n"
   ]
  },
  {
   "cell_type": "markdown",
   "metadata": {},
   "source": [
    "## sentiment-prosa"
   ]
  },
  {
   "cell_type": "code",
   "execution_count": null,
   "metadata": {},
   "outputs": [],
   "source": [
    "sentiment_prosa = 'downstream/e5-small/smsa_doc-sentiment-prosa'"
   ]
  },
  {
   "cell_type": "code",
   "execution_count": null,
   "metadata": {},
   "outputs": [],
   "source": [
    "train_sentiment_prosa = pd.read_csv(f'{sentiment_prosa}/train_preprocess.tsv', sep='\\t', header=None)\n",
    "train_sentiment_prosa.columns = ['text', 'label']\n",
    "\n",
    "valid_sentiment_prosa = pd.read_csv(f'{sentiment_prosa}/valid_preprocess.tsv', sep='\\t', header=None)\n",
    "valid_sentiment_prosa.columns = ['text', 'label']\n",
    "\n",
    "test_sentiment_prosa = pd.read_csv(f'{sentiment_prosa}/test_preprocess.tsv', sep='\\t', header=None)\n",
    "test_sentiment_prosa.columns = ['text', 'label']\n",
    "\n",
    "train_sentiment_prosa_embedding_e5 = np.load('downstream/e5-small/smsa_doc-sentiment-prosa/train.npy')\n",
    "valid_sentiment_prosa_embedding_e5 = np.load('downstream/e5-small/smsa_doc-sentiment-prosa/valid.npy')\n",
    "test_sentiment_prosa_embedding_e5 = np.load('downstream/e5-small/smsa_doc-sentiment-prosa/test.npy')\n",
    "\n",
    "train_sentiment_prosa_embedding_distill = np.load('downstream/distill-e5-small/smsa_doc-sentiment-prosa/train.npy')\n",
    "valid_sentiment_prosa_embedding_distill = np.load('downstream/distill-e5-small/smsa_doc-sentiment-prosa/valid.npy')\n",
    "test_sentiment_prosa_embedding_distill = np.load('downstream/distill-e5-small/smsa_doc-sentiment-prosa/test.npy')\n",
    "\n",
    "label_list_prosa = train_sentiment_prosa['label'].unique().tolist()\n",
    "\n",
    "train_sentiment_prosa_label = []\n",
    "for label in train_sentiment_prosa['label']:\n",
    "    _label = label_list_prosa.index(label)\n",
    "    train_sentiment_prosa_label.append(_label)\n",
    "\n",
    "valid_sentiment_prosa_label = []\n",
    "for label in valid_sentiment_prosa['label']:\n",
    "    _label = label_list_prosa.index(label)\n",
    "    valid_sentiment_prosa_label.append(_label)\n",
    "\n",
    "test_sentiment_prosa_label = []\n",
    "for label in test_sentiment_prosa['label']:\n",
    "    _label = label_list_prosa.index(label)\n",
    "    test_sentiment_prosa_label.append(_label)"
   ]
  },
  {
   "cell_type": "code",
   "execution_count": null,
   "metadata": {},
   "outputs": [],
   "source": [
    "model_e5 = LogisticRegression(random_state=42)\n",
    "model_e5.fit(train_sentiment_prosa_embedding_e5.reshape(train_sentiment_prosa_embedding_e5.shape[0], -1), train_sentiment_prosa_label)\n",
    "y_pred = model_e5.predict(test_sentiment_prosa_embedding_e5.reshape(test_sentiment_prosa_embedding_e5.shape[0], -1))\n",
    "\n",
    "accuracy = accuracy_score(y_pred, test_sentiment_prosa_label)\n",
    "print(f\"Accuracy on E5-Small: {accuracy:.4f}\")\n",
    "\n",
    "model_distill = LogisticRegression(random_state=42)\n",
    "model_distill.fit(train_sentiment_prosa_embedding_distill.reshape(train_sentiment_prosa_embedding_distill.shape[0], -1), train_sentiment_prosa_label)\n",
    "y_pred = model_distill.predict(test_sentiment_prosa_embedding_distill.reshape(test_sentiment_prosa_embedding_distill.shape[0], -1))\n",
    "\n",
    "accuracy = accuracy_score(y_pred, test_sentiment_prosa_label)\n",
    "print(f\"Accuracy on Distill E5-Small: {accuracy:.4f}\")\n",
    "\n"
   ]
  },
  {
   "cell_type": "code",
   "execution_count": null,
   "metadata": {},
   "outputs": [],
   "source": [
    "model_e5 = GaussianNB()\n",
    "model_e5.fit(train_sentiment_prosa_embedding_e5.reshape(train_sentiment_prosa_embedding_e5.shape[0], -1), train_sentiment_prosa_label)\n",
    "y_pred = model_e5.predict(test_sentiment_prosa_embedding_e5.reshape(test_sentiment_prosa_embedding_e5.shape[0], -1))\n",
    "\n",
    "accuracy = accuracy_score(y_pred, test_sentiment_prosa_label)\n",
    "print(f\"Accuracy on E5-Small: {accuracy:.4f}\")\n",
    "\n",
    "model_distill = GaussianNB()\n",
    "model_distill.fit(train_sentiment_prosa_embedding_distill.reshape(train_sentiment_prosa_embedding_distill.shape[0], -1), train_sentiment_prosa_label)\n",
    "y_pred = model_distill.predict(test_sentiment_prosa_embedding_distill.reshape(test_sentiment_prosa_embedding_distill.shape[0], -1))\n",
    "\n",
    "accuracy = accuracy_score(y_pred, test_sentiment_prosa_label)\n",
    "print(f\"Accuracy on Distill E5-Small: {accuracy:.4f}\")\n",
    "\n"
   ]
  }
 ],
 "metadata": {
  "kernelspec": {
   "display_name": "Python 3",
   "language": "python",
   "name": "python3"
  },
  "language_info": {
   "codemirror_mode": {
    "name": "ipython",
    "version": 3
   },
   "file_extension": ".py",
   "mimetype": "text/x-python",
   "name": "python",
   "nbconvert_exporter": "python",
   "pygments_lexer": "ipython3",
   "version": "3.10.9"
  }
 },
 "nbformat": 4,
 "nbformat_minor": 2
}
