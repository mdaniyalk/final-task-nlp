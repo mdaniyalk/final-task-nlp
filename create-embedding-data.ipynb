{
 "cells": [
  {
   "cell_type": "markdown",
   "metadata": {},
   "source": [
    "# Prepare the model"
   ]
  },
  {
   "cell_type": "markdown",
   "metadata": {},
   "source": [
    "## Load tokenizer"
   ]
  },
  {
   "cell_type": "code",
   "execution_count": null,
   "metadata": {},
   "outputs": [],
   "source": [
    "import tensorflow as tf\n",
    "from transformers import TFXLMRobertaModel, XLMRobertaTokenizer, TFXLMRobertaForMaskedLM, XLMRobertaConfig\n",
    "import os\n",
    "import numpy as np\n",
    "from datasets import load_dataset\n",
    "from transformers import DataCollatorForLanguageModeling\n",
    "from transformers import create_optimizer, AdamWeightDecay\n",
    "\n",
    "\n",
    "model_name = 'distill'\n",
    "config = XLMRobertaConfig.from_pretrained('intfloat/multilingual-e5-small')\n",
    "tokenizer = XLMRobertaTokenizer.from_pretrained('intfloat/multilingual-e5-small')\n",
    "\n"
   ]
  },
  {
   "cell_type": "markdown",
   "metadata": {},
   "source": [
    "## Load teacher model"
   ]
  },
  {
   "cell_type": "code",
   "execution_count": null,
   "metadata": {},
   "outputs": [],
   "source": [
    "teacher_model = TFXLMRobertaForMaskedLM.from_pretrained('kaggle/working/teacher_e5')\n",
    "teacher_model.roberta.embeddings.trainable = False\n",
    "teacher_model.summary(expand_nested=True)"
   ]
  },
  {
   "cell_type": "markdown",
   "metadata": {},
   "source": [
    "## Prepare training Datasets"
   ]
  },
  {
   "cell_type": "code",
   "execution_count": null,
   "metadata": {},
   "outputs": [],
   "source": [
    "PRETRAINING_BATCH_SIZE = 126\n",
    "PRETRAINING_LEARNING_RATE = 5e-4\n",
    "PRETRAINING_EPOCHS = 8\n",
    "VOCABULARY_SIZE = 250002\n",
    "MASK_RATE = 0.25\n",
    "PREDICTIONS_PER_SEQ = 32\n",
    "SEQ_LENGTH = 512\n",
    "\n",
    "\n",
    "folder = 'dataset/processed_uncased_blanklines/'\n",
    "file_list = os.listdir(folder)\n",
    "file_list = [f\"{folder}/{_file}\" for _file in file_list]\n",
    "\n",
    "\n"
   ]
  },
  {
   "cell_type": "code",
   "execution_count": null,
   "metadata": {},
   "outputs": [],
   "source": [
    "file_list"
   ]
  },
  {
   "cell_type": "code",
   "execution_count": null,
   "metadata": {},
   "outputs": [],
   "source": [
    "new_file_list = [\n",
    "#  'dataset/processed_uncased_blanklines/talpco_indonesia.txt',\n",
    " 'dataset/processed_uncased_blanklines/kompas.txt',\n",
    " 'dataset/processed_uncased_blanklines/tempo.txt',\n",
    "#  'dataset/processed_uncased_blanklines/jw300.txt',\n",
    "#  'dataset/processed_uncased_blanklines/13k_words.txt',\n",
    "#  'dataset/processed_uncased_blanklines/parallel_corpus.txt',\n",
    "#  'dataset/processed_uncased_blanklines/frog_storytelling.txt',\n",
    "#  'dataset/processed_uncased_blanklines/bppt.txt'\n",
    " ]"
   ]
  },
  {
   "cell_type": "code",
   "execution_count": null,
   "metadata": {},
   "outputs": [],
   "source": [
    "datasets = load_dataset(\"text\", data_files={\"train\": new_file_list})"
   ]
  },
  {
   "cell_type": "code",
   "execution_count": null,
   "metadata": {},
   "outputs": [],
   "source": [
    "def tokenize_function(examples):\n",
    "    return tokenizer(examples[\"text\"])"
   ]
  },
  {
   "cell_type": "code",
   "execution_count": null,
   "metadata": {},
   "outputs": [],
   "source": [
    "tokenized_datasets = datasets.map(\n",
    "    tokenize_function, batched=True, num_proc=4, remove_columns=[\"text\"]\n",
    ")"
   ]
  },
  {
   "cell_type": "code",
   "execution_count": null,
   "metadata": {},
   "outputs": [],
   "source": [
    "tokenized_datasets['train']"
   ]
  },
  {
   "cell_type": "code",
   "execution_count": null,
   "metadata": {},
   "outputs": [],
   "source": [
    "block_size = 64\n",
    "\n",
    "def group_texts(examples):\n",
    "    # Concatenate all texts.\n",
    "    concatenated_examples = {k: sum(examples[k], []) for k in examples.keys()}\n",
    "    total_length = len(concatenated_examples[list(examples.keys())[0]])\n",
    "    # We drop the small remainder, though you could add padding instead if the model supports it\n",
    "    # In this, as in all things, we advise you to follow your heart\n",
    "    total_length = (total_length // block_size) * block_size\n",
    "    # Split by chunks of max_len.\n",
    "    result = {\n",
    "        k: [t[i : i + block_size] for i in range(0, total_length, block_size)]\n",
    "        for k, t in concatenated_examples.items()\n",
    "    }\n",
    "    result[\"labels\"] = result[\"input_ids\"].copy()\n",
    "    return result"
   ]
  },
  {
   "cell_type": "code",
   "execution_count": null,
   "metadata": {},
   "outputs": [],
   "source": [
    "lm_datasets = tokenized_datasets.map(\n",
    "    group_texts,\n",
    "    batched=True,\n",
    "    batch_size=1000,\n",
    "    num_proc=8,\n",
    ")"
   ]
  },
  {
   "cell_type": "code",
   "execution_count": null,
   "metadata": {},
   "outputs": [],
   "source": [
    "len(lm_datasets['train']['input_ids'][0])"
   ]
  },
  {
   "cell_type": "markdown",
   "metadata": {},
   "source": [
    "# Traning the models"
   ]
  },
  {
   "cell_type": "markdown",
   "metadata": {},
   "source": [
    "## Fine-tune teacher models"
   ]
  },
  {
   "cell_type": "code",
   "execution_count": null,
   "metadata": {},
   "outputs": [],
   "source": [
    "optimizer = AdamWeightDecay(learning_rate=1e-3, weight_decay_rate=0.01)\n",
    "\n",
    "teacher_model.compile(optimizer=optimizer, jit_compile=True, metrics=['accuracy', tf.keras.metrics.SparseTopKCategoricalAccuracy(k=3)])"
   ]
  },
  {
   "cell_type": "code",
   "execution_count": null,
   "metadata": {},
   "outputs": [],
   "source": [
    "inputs = tf.keras.layers.Input(shape=(64,), dtype=tf.int32, name=\"input_ids\")\n",
    "embedding = teacher_model.roberta\n",
    "outputs, _ = embedding(inputs, return_dict=False)\n",
    "outputs = outputs[0]\n",
    "model = tf.keras.Model(inputs, outputs, name=\"embedding_xlmroberta\")\n"
   ]
  },
  {
   "cell_type": "code",
   "execution_count": null,
   "metadata": {},
   "outputs": [],
   "source": [
    "output1 = model.predict(lm_datasets['train']['input_ids'][:75000]).astype(np.float16)"
   ]
  },
  {
   "cell_type": "code",
   "execution_count": null,
   "metadata": {},
   "outputs": [],
   "source": [
    "output2 = model.predict(lm_datasets['train']['input_ids'][75000:150000]).astype(np.float16)"
   ]
  },
  {
   "cell_type": "code",
   "execution_count": null,
   "metadata": {},
   "outputs": [],
   "source": [
    "output3 = model.predict(lm_datasets['train']['input_ids'][150000:]).astype(np.float16)"
   ]
  },
  {
   "cell_type": "code",
   "execution_count": null,
   "metadata": {},
   "outputs": [],
   "source": [
    "output2_1 = model.predict(lm_datasets['train']['input_ids'][:75000]).astype(np.float16)"
   ]
  },
  {
   "cell_type": "code",
   "execution_count": null,
   "metadata": {},
   "outputs": [],
   "source": [
    "output2_1 = model.predict(lm_datasets['train']['input_ids'][75000:150000]).astype(np.float16)"
   ]
  },
  {
   "cell_type": "code",
   "execution_count": null,
   "metadata": {},
   "outputs": [],
   "source": [
    "len(lm_datasets['train']['input_ids'])"
   ]
  },
  {
   "cell_type": "code",
   "execution_count": null,
   "metadata": {},
   "outputs": [],
   "source": [
    "output2_1 = model.predict(lm_datasets['train']['input_ids'][150000:225000]).astype(np.float16)"
   ]
  },
  {
   "cell_type": "code",
   "execution_count": null,
   "metadata": {},
   "outputs": [],
   "source": [
    "output2_1 = model.predict(lm_datasets['train']['input_ids'][225000:]).astype(np.float16)"
   ]
  },
  {
   "cell_type": "code",
   "execution_count": null,
   "metadata": {},
   "outputs": [],
   "source": [
    "np.save('embedding_out_v1_1-225k.npy', output2_1)"
   ]
  },
  {
   "cell_type": "code",
   "execution_count": null,
   "metadata": {},
   "outputs": [],
   "source": [
    "output"
   ]
  },
  {
   "cell_type": "markdown",
   "metadata": {},
   "source": [
    "# Indo NLU data"
   ]
  },
  {
   "cell_type": "code",
   "execution_count": null,
   "metadata": {},
   "outputs": [],
   "source": [
    "sentiment_prosa = 'indonlu/dataset/smsa_doc-sentiment-prosa'\n",
    "emotion_twitter = 'indonlu/dataset/emot_emotion-twitter'\n",
    "absa_airy = 'indonlu/dataset/hoasa_absa-airy'\n",
    "absa_prosa = 'indonlu/dataset/casa_absa-prosa'"
   ]
  },
  {
   "cell_type": "code",
   "execution_count": null,
   "metadata": {},
   "outputs": [],
   "source": [
    "import os\n",
    "\n",
    "print(os.listdir(sentiment_prosa))\n",
    "print(os.listdir(emotion_twitter))\n",
    "print(os.listdir(absa_airy))\n",
    "print(os.listdir(absa_prosa))"
   ]
  },
  {
   "cell_type": "code",
   "execution_count": null,
   "metadata": {},
   "outputs": [],
   "source": [
    "import pandas as pd \n",
    "import numpy as np\n",
    "from tqdm import tqdm"
   ]
  },
  {
   "cell_type": "code",
   "execution_count": null,
   "metadata": {},
   "outputs": [],
   "source": [
    "block_size = 64\n",
    "\n",
    "def group_texts(tokens_list):\n",
    "    total_length = len(tokens_list)\n",
    "    # We drop the small remainder, though you could add padding instead if the model supports it\n",
    "    # In this, as in all things, we advise you to follow your heart\n",
    "    total_length = (total_length // block_size) * block_size\n",
    "    # Split by chunks of max_len.\n",
    "    # result = [tokens_list[i : i + block_size] for i in range(0, total_length, block_size)]\n",
    "    result = tokens_list[:block_size]\n",
    "    result += [1] * (block_size - len(result))\n",
    "    return result\n"
   ]
  },
  {
   "cell_type": "markdown",
   "metadata": {},
   "source": [
    "## sentiment_prosa"
   ]
  },
  {
   "cell_type": "code",
   "execution_count": null,
   "metadata": {},
   "outputs": [],
   "source": [
    "train_sentiment_prosa = pd.read_csv(f'{sentiment_prosa}/train_preprocess.tsv', sep='\\t', header=None)\n",
    "train_sentiment_prosa.columns = ['text', 'label']\n",
    "train_sentiment_prosa.head()"
   ]
  },
  {
   "cell_type": "code",
   "execution_count": null,
   "metadata": {},
   "outputs": [],
   "source": [
    "train_sentiment_prosa_token = []\n",
    "for token in train_sentiment_prosa['text']:\n",
    "    _token = tokenizer(token)\n",
    "    _token = group_texts(_token['input_ids'])\n",
    "    train_sentiment_prosa_token.append(_token)\n"
   ]
  },
  {
   "cell_type": "code",
   "execution_count": null,
   "metadata": {},
   "outputs": [],
   "source": [
    "train_sentiment_prosa_embedding = model.predict(train_sentiment_prosa_token[0:1])"
   ]
  },
  {
   "cell_type": "code",
   "execution_count": null,
   "metadata": {},
   "outputs": [],
   "source": [
    "train_sentiment_prosa_embedding.shape"
   ]
  },
  {
   "cell_type": "code",
   "execution_count": null,
   "metadata": {},
   "outputs": [],
   "source": [
    "len(train_sentiment_prosa_token)"
   ]
  },
  {
   "cell_type": "code",
   "execution_count": null,
   "metadata": {},
   "outputs": [],
   "source": [
    "np.save('downstream/e5-small/smsa_doc-sentiment-prosa/train.npy', train_sentiment_prosa_embedding)"
   ]
  },
  {
   "cell_type": "code",
   "execution_count": null,
   "metadata": {},
   "outputs": [],
   "source": [
    "valid_sentiment_prosa = pd.read_csv(f'{sentiment_prosa}/valid_preprocess.tsv', sep='\\t', header=None)\n",
    "valid_sentiment_prosa.columns = ['text', 'label']\n",
    "valid_sentiment_prosa.head()\n",
    "valid_sentiment_prosa_token = []\n",
    "for token in valid_sentiment_prosa['text']:\n",
    "    _token = tokenizer(token)\n",
    "    _token = group_texts(_token['input_ids'])\n",
    "    valid_sentiment_prosa_token.append(_token)\n",
    "valid_sentiment_prosa_embedding = model.predict(valid_sentiment_prosa_token)\n",
    "np.save('downstream/e5-small/smsa_doc-sentiment-prosa/valid.npy', valid_sentiment_prosa_embedding)\n"
   ]
  },
  {
   "cell_type": "code",
   "execution_count": null,
   "metadata": {},
   "outputs": [],
   "source": [
    "test_sentiment_prosa = pd.read_csv(f'{sentiment_prosa}/test_preprocess.tsv', sep='\\t', header=None)\n",
    "test_sentiment_prosa.columns = ['text', 'label']\n",
    "test_sentiment_prosa.head()\n",
    "test_sentiment_prosa_token = []\n",
    "for token in test_sentiment_prosa['text']:\n",
    "    _token = tokenizer(token)\n",
    "    _token = group_texts(_token['input_ids'])\n",
    "    test_sentiment_prosa_token.append(_token)\n",
    "test_sentiment_prosa_embedding = model.predict(test_sentiment_prosa_token)\n",
    "np.save('downstream/e5-small/smsa_doc-sentiment-prosa/test.npy', test_sentiment_prosa_embedding)\n"
   ]
  },
  {
   "cell_type": "markdown",
   "metadata": {},
   "source": [
    "## Emotion twitter"
   ]
  },
  {
   "cell_type": "code",
   "execution_count": null,
   "metadata": {},
   "outputs": [],
   "source": [
    "train_emotion_twitter = pd.read_csv(f'{emotion_twitter}/train_preprocess.csv')\n",
    "train_emotion_twitter.head()"
   ]
  },
  {
   "cell_type": "code",
   "execution_count": null,
   "metadata": {},
   "outputs": [],
   "source": [
    "train_emotion_twitter_token = []\n",
    "for token in train_emotion_twitter['tweet']:\n",
    "    _token = tokenizer(token)\n",
    "    _token = group_texts(_token['input_ids'])\n",
    "    train_emotion_twitter_token.append(_token)\n",
    "\n",
    "train_emotion_twitter_embedding = model.predict(train_emotion_twitter_token)\n",
    "\n",
    "np.save('downstream/e5-small/emot_emotion-twitter/train.npy', train_emotion_twitter_embedding)"
   ]
  },
  {
   "cell_type": "code",
   "execution_count": null,
   "metadata": {},
   "outputs": [],
   "source": [
    "valid_emotion_twitter = pd.read_csv(f'{emotion_twitter}/valid_preprocess.csv')\n",
    "\n",
    "valid_emotion_twitter_token = []\n",
    "for token in valid_emotion_twitter['tweet']:\n",
    "    _token = tokenizer(token)\n",
    "    _token = group_texts(_token['input_ids'])\n",
    "    valid_emotion_twitter_token.append(_token)\n",
    "\n",
    "valid_emotion_twitter_embedding = model.predict(valid_emotion_twitter_token)\n",
    "\n",
    "np.save('downstream/e5-small/emot_emotion-twitter/valid.npy', valid_emotion_twitter_embedding)"
   ]
  },
  {
   "cell_type": "code",
   "execution_count": null,
   "metadata": {},
   "outputs": [],
   "source": [
    "test_emotion_twitter = pd.read_csv(f'{emotion_twitter}/test_preprocess.csv')\n",
    "\n",
    "test_emotion_twitter_token = []\n",
    "for token in test_emotion_twitter['tweet']:\n",
    "    _token = tokenizer(token)\n",
    "    _token = group_texts(_token['input_ids'])\n",
    "    test_emotion_twitter_token.append(_token)\n",
    "\n",
    "test_emotion_twitter_embedding = model.predict(test_emotion_twitter_token)\n",
    "\n",
    "np.save('downstream/e5-small/emot_emotion-twitter/test.npy', test_emotion_twitter_embedding)"
   ]
  },
  {
   "cell_type": "markdown",
   "metadata": {},
   "source": [
    "## absa_airy"
   ]
  },
  {
   "cell_type": "code",
   "execution_count": null,
   "metadata": {},
   "outputs": [],
   "source": [
    "train_absa_airy = pd.read_csv(f'{absa_airy}/train_preprocess.csv')\n",
    "train_absa_airy.head()"
   ]
  },
  {
   "cell_type": "code",
   "execution_count": null,
   "metadata": {},
   "outputs": [],
   "source": [
    "train_absa_airy_token = []\n",
    "for token in train_absa_airy['review']:\n",
    "    _token = tokenizer(token)\n",
    "    _token = group_texts(_token['input_ids'])\n",
    "    train_absa_airy_token.append(_token)\n",
    "\n",
    "train_absa_airy_embedding = model.predict(train_absa_airy_token)\n",
    "\n",
    "np.save('downstream/e5-small/hoasa_absa-airy/train.npy', train_absa_airy_embedding)"
   ]
  },
  {
   "cell_type": "code",
   "execution_count": null,
   "metadata": {},
   "outputs": [],
   "source": [
    "valid_absa_airy = pd.read_csv(f'{absa_airy}/valid_preprocess.csv')\n",
    "\n",
    "valid_absa_airy_token = []\n",
    "for token in valid_absa_airy['review']:\n",
    "    _token = tokenizer(token)\n",
    "    _token = group_texts(_token['input_ids'])\n",
    "    valid_absa_airy_token.append(_token)\n",
    "\n",
    "valid_absa_airy_embedding = model.predict(valid_absa_airy_token)\n",
    "\n",
    "np.save('downstream/e5-small/hoasa_absa-airy/valid.npy', valid_absa_airy_embedding)\n",
    "\n",
    "test_absa_airy = pd.read_csv(f'{absa_airy}/test_preprocess.csv')\n",
    "\n",
    "test_absa_airy_token = []\n",
    "for token in test_absa_airy['review']:\n",
    "    _token = tokenizer(token)\n",
    "    _token = group_texts(_token['input_ids'])\n",
    "    test_absa_airy_token.append(_token)\n",
    "\n",
    "test_absa_airy_embedding = model.predict(test_absa_airy_token)\n",
    "\n",
    "np.save('downstream/e5-small/hoasa_absa-airy/test.npy', test_absa_airy_embedding)"
   ]
  },
  {
   "cell_type": "markdown",
   "metadata": {},
   "source": [
    "## absa_prosa"
   ]
  },
  {
   "cell_type": "code",
   "execution_count": null,
   "metadata": {},
   "outputs": [],
   "source": [
    "train_absa_prosa = pd.read_csv(f'{absa_prosa}/train_preprocess.csv')\n",
    "train_absa_prosa.head()"
   ]
  },
  {
   "cell_type": "code",
   "execution_count": null,
   "metadata": {},
   "outputs": [],
   "source": [
    "train_absa_prosa_token = []\n",
    "for token in train_absa_prosa['sentence']:\n",
    "    _token = tokenizer(token)\n",
    "    _token = group_texts(_token['input_ids'])\n",
    "    train_absa_prosa_token.append(_token)\n",
    "\n",
    "train_absa_prosa_embedding = model.predict(train_absa_prosa_token)\n",
    "\n",
    "np.save('downstream/e5-small/casa_absa-prosa/train.npy', train_absa_prosa_embedding)"
   ]
  },
  {
   "cell_type": "code",
   "execution_count": null,
   "metadata": {},
   "outputs": [],
   "source": [
    "valid_absa_prosa = pd.read_csv(f'{absa_prosa}/valid_preprocess.csv')\n",
    "\n",
    "\n",
    "valid_absa_prosa_token = []\n",
    "for token in valid_absa_prosa['sentence']:\n",
    "    _token = tokenizer(token)\n",
    "    _token = group_texts(_token['input_ids'])\n",
    "    valid_absa_prosa_token.append(_token)\n",
    "\n",
    "valid_absa_prosa_embedding = model.predict(valid_absa_prosa_token)\n",
    "\n",
    "np.save('downstream/e5-small/casa_absa-prosa/valid.npy', valid_absa_prosa_embedding)"
   ]
  },
  {
   "cell_type": "code",
   "execution_count": null,
   "metadata": {},
   "outputs": [],
   "source": [
    "test_absa_prosa = pd.read_csv(f'{absa_prosa}/test_preprocess.csv')\n",
    "\n",
    "\n",
    "test_absa_prosa_token = []\n",
    "for token in test_absa_prosa['sentence']:\n",
    "    _token = tokenizer(token)\n",
    "    _token = group_texts(_token['input_ids'])\n",
    "    test_absa_prosa_token.append(_token)\n",
    "\n",
    "test_absa_prosa_embedding = model.predict(test_absa_prosa_token)\n",
    "\n",
    "np.save('downstream/e5-small/casa_absa-prosa/test.npy', test_absa_prosa_embedding)"
   ]
  },
  {
   "cell_type": "markdown",
   "metadata": {},
   "source": [
    "# Distill e5 embedding"
   ]
  },
  {
   "cell_type": "code",
   "execution_count": null,
   "metadata": {},
   "outputs": [],
   "source": [
    "import dill as pickle\n",
    "\n",
    "with open('distill_indo_e5-ckpt-2.pkl', 'rb') as file:\n",
    "    distill_model = pickle.load(file)\n",
    "distill_model.summary()"
   ]
  },
  {
   "cell_type": "code",
   "execution_count": null,
   "metadata": {},
   "outputs": [],
   "source": [
    "test_absa_prosa_embedding = distill_model.predict(test_absa_prosa_token)"
   ]
  }
 ],
 "metadata": {
  "kernelspec": {
   "display_name": "base",
   "language": "python",
   "name": "python3"
  },
  "language_info": {
   "codemirror_mode": {
    "name": "ipython",
    "version": 3
   },
   "file_extension": ".py",
   "mimetype": "text/x-python",
   "name": "python",
   "nbconvert_exporter": "python",
   "pygments_lexer": "ipython3",
   "version": "3.10.9"
  }
 },
 "nbformat": 4,
 "nbformat_minor": 2
}
